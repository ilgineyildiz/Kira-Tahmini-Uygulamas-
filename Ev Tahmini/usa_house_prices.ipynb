{
 "cells": [
  {
   "cell_type": "code",
   "execution_count": 367,
   "metadata": {},
   "outputs": [],
   "source": [
    "import pandas as pd\n",
    "import numpy as np\n",
    "from sklearn.preprocessing import MinMaxScaler\n",
    "from sklearn.preprocessing import LabelEncoder\n",
    "from sklearn.model_selection import train_test_split\n",
    "from sklearn.ensemble import RandomForestClassifier\n",
    "from sklearn.metrics import classification_report,confusion_matrix"
   ]
  },
  {
   "cell_type": "code",
   "execution_count": 368,
   "metadata": {},
   "outputs": [
    {
     "name": "stdout",
     "output_type": "stream",
     "text": [
      "                     date         price  bedrooms  bathrooms  sqft_living  \\\n",
      "0     2014-05-09 00:00:00  3.760000e+05       3.0       2.00         1340   \n",
      "1     2014-05-09 00:00:00  8.000000e+05       4.0       3.25         3540   \n",
      "2     2014-05-09 00:00:00  2.238888e+06       5.0       6.50         7270   \n",
      "3     2014-05-09 00:00:00  3.240000e+05       3.0       2.25          998   \n",
      "4     2014-05-10 00:00:00  5.499000e+05       5.0       2.75         3060   \n",
      "...                   ...           ...       ...        ...          ...   \n",
      "4135  2014-07-09 00:00:00  3.081667e+05       3.0       1.75         1510   \n",
      "4136  2014-07-09 00:00:00  5.343333e+05       3.0       2.50         1460   \n",
      "4137  2014-07-09 00:00:00  4.169042e+05       3.0       2.50         3010   \n",
      "4138  2014-07-10 00:00:00  2.034000e+05       4.0       2.00         2090   \n",
      "4139  2014-07-10 00:00:00  2.206000e+05       3.0       2.50         1490   \n",
      "\n",
      "      sqft_lot  floors  waterfront  view  condition  sqft_above  \\\n",
      "0         1384     3.0           0     0          3        1340   \n",
      "1       159430     2.0           0     0          3        3540   \n",
      "2       130017     2.0           0     0          3        6420   \n",
      "3          904     2.0           0     0          3         798   \n",
      "4         7015     1.0           0     0          5        1600   \n",
      "...        ...     ...         ...   ...        ...         ...   \n",
      "4135      6360     1.0           0     0          4        1510   \n",
      "4136      7573     2.0           0     0          3        1460   \n",
      "4137      7014     2.0           0     0          3        3010   \n",
      "4138      6630     1.0           0     0          3        1070   \n",
      "4139      8102     2.0           0     0          4        1490   \n",
      "\n",
      "      sqft_basement  yr_built  yr_renovated                   street  \\\n",
      "0                 0      2008             0  9245-9249 Fremont Ave N   \n",
      "1                 0      2007             0         33001 NE 24th St   \n",
      "2               850      2010             0         7070 270th Pl SE   \n",
      "3               200      2007             0           820 NW 95th St   \n",
      "4              1460      1979             0        10834 31st Ave SW   \n",
      "...             ...       ...           ...                      ...   \n",
      "4135              0      1954          1979           501 N 143rd St   \n",
      "4136              0      1983          2009         14855 SE 10th Pl   \n",
      "4137              0      2009             0         759 Ilwaco Pl NE   \n",
      "4138           1020      1974             0        5148 S Creston St   \n",
      "4139              0      1990             0        18717 SE 258th St   \n",
      "\n",
      "           city  statezip country  \n",
      "0       Seattle  WA 98103     USA  \n",
      "1     Carnation  WA 98014     USA  \n",
      "2      Issaquah  WA 98029     USA  \n",
      "3       Seattle  WA 98117     USA  \n",
      "4       Seattle  WA 98146     USA  \n",
      "...         ...       ...     ...  \n",
      "4135    Seattle  WA 98133     USA  \n",
      "4136   Bellevue  WA 98007     USA  \n",
      "4137     Renton  WA 98059     USA  \n",
      "4138    Seattle  WA 98178     USA  \n",
      "4139  Covington  WA 98042     USA  \n",
      "\n",
      "[4140 rows x 18 columns]\n"
     ]
    }
   ],
   "source": [
    "dataset=pd.read_csv(r\"C:\\Users\\ilgin\\Desktop\\USA Housing Dataset.csv\")\n",
    "print(dataset)"
   ]
  },
  {
   "cell_type": "code",
   "execution_count": 369,
   "metadata": {},
   "outputs": [
    {
     "name": "stdout",
     "output_type": "stream",
     "text": [
      "<class 'pandas.core.frame.DataFrame'>\n",
      "RangeIndex: 4140 entries, 0 to 4139\n",
      "Data columns (total 18 columns):\n",
      " #   Column         Non-Null Count  Dtype  \n",
      "---  ------         --------------  -----  \n",
      " 0   date           4140 non-null   object \n",
      " 1   price          4140 non-null   float64\n",
      " 2   bedrooms       4140 non-null   float64\n",
      " 3   bathrooms      4140 non-null   float64\n",
      " 4   sqft_living    4140 non-null   int64  \n",
      " 5   sqft_lot       4140 non-null   int64  \n",
      " 6   floors         4140 non-null   float64\n",
      " 7   waterfront     4140 non-null   int64  \n",
      " 8   view           4140 non-null   int64  \n",
      " 9   condition      4140 non-null   int64  \n",
      " 10  sqft_above     4140 non-null   int64  \n",
      " 11  sqft_basement  4140 non-null   int64  \n",
      " 12  yr_built       4140 non-null   int64  \n",
      " 13  yr_renovated   4140 non-null   int64  \n",
      " 14  street         4140 non-null   object \n",
      " 15  city           4140 non-null   object \n",
      " 16  statezip       4140 non-null   object \n",
      " 17  country        4140 non-null   object \n",
      "dtypes: float64(4), int64(9), object(5)\n",
      "memory usage: 582.3+ KB\n"
     ]
    }
   ],
   "source": [
    "dataset.info()"
   ]
  },
  {
   "cell_type": "code",
   "execution_count": 370,
   "metadata": {},
   "outputs": [
    {
     "name": "stdout",
     "output_type": "stream",
     "text": [
      "      date  price  bedrooms  bathrooms  sqft_living  sqft_lot  floors  \\\n",
      "0        5    552       3.0       2.00         1340      1384     3.0   \n",
      "1        5   1277       4.0       3.25         3540    159430     2.0   \n",
      "2        5   1598       5.0       6.50         7270    130017     2.0   \n",
      "3        5    404       3.0       2.25          998       904     2.0   \n",
      "4        6    933       5.0       2.75         3060      7015     1.0   \n",
      "...    ...    ...       ...        ...          ...       ...     ...   \n",
      "4135    66    366       3.0       1.75         1510      6360     1.0   \n",
      "4136    66    900       3.0       2.50         1460      7573     2.0   \n",
      "4137    66    652       3.0       2.50         3010      7014     2.0   \n",
      "4138    67    107       4.0       2.00         2090      6630     1.0   \n",
      "4139    67    136       3.0       2.50         1490      8102     2.0   \n",
      "\n",
      "      waterfront  view  condition  sqft_above  sqft_basement  yr_built  \\\n",
      "0              0     0          3        1340              0      2008   \n",
      "1              0     0          3        3540              0      2007   \n",
      "2              0     0          3        6420            850      2010   \n",
      "3              0     0          3         798            200      2007   \n",
      "4              0     0          5        1600           1460      1979   \n",
      "...          ...   ...        ...         ...            ...       ...   \n",
      "4135           0     0          4        1510              0      1954   \n",
      "4136           0     0          3        1460              0      1983   \n",
      "4137           0     0          3        3010              0      2009   \n",
      "4138           0     0          3        1070           1020      1974   \n",
      "4139           0     0          4        1490              0      1990   \n",
      "\n",
      "      yr_renovated  street  city  statezip  country  \n",
      "0                0    3962    34        47        0  \n",
      "1                0    2491     7        10        0  \n",
      "2                0    3511    15        17        0  \n",
      "3                0    3762    34        56        0  \n",
      "4                0     177    34        65        0  \n",
      "...            ...     ...   ...       ...      ...  \n",
      "4135          1979    3095    34        62        0  \n",
      "4136          2009     870     3         6        0  \n",
      "4137             0    3634    31        37        0  \n",
      "4138             0    3145    34        71        0  \n",
      "4139             0    1364     9        26        0  \n",
      "\n",
      "[4140 rows x 18 columns]\n"
     ]
    }
   ],
   "source": [
    "from sklearn.preprocessing import LabelEncoder\n",
    "le=LabelEncoder()                                                 #labelencoding\n",
    "dataset[\"date\"] = le.fit_transform(dataset[\"date\"])\n",
    "dataset[\"street\"] = le.fit_transform(dataset[\"street\"])\n",
    "dataset[\"city\"] = le.fit_transform(dataset[\"city\"])\n",
    "dataset[\"statezip\"] = le.fit_transform(dataset[\"statezip\"])\n",
    "dataset[\"country\"] = le.fit_transform(dataset[\"country\"])\n",
    "dataset[\"price\"] = le.fit_transform(dataset[\"price\"])\n",
    "print(dataset)"
   ]
  },
  {
   "cell_type": "code",
   "execution_count": 371,
   "metadata": {},
   "outputs": [
    {
     "name": "stdout",
     "output_type": "stream",
     "text": [
      "      date  price  bedrooms  bathrooms  sqft_living  sqft_lot  floors  \\\n",
      "0        5    552       3.0       2.00     0.100310  0.000695     3.0   \n",
      "1        5   1277       4.0       3.25     0.327818  0.147909     2.0   \n",
      "2        5   1598       5.0       6.50     0.713547  0.120512     2.0   \n",
      "3        5    404       3.0       2.25     0.064943  0.000248     2.0   \n",
      "4        6    933       5.0       2.75     0.278180  0.005940     1.0   \n",
      "...    ...    ...       ...        ...          ...       ...     ...   \n",
      "4135    66    366       3.0       1.75     0.117890  0.005330     1.0   \n",
      "4136    66    900       3.0       2.50     0.112720  0.006460     2.0   \n",
      "4137    66    652       3.0       2.50     0.273009  0.005939     2.0   \n",
      "4138    67    107       4.0       2.00     0.177870  0.005581     1.0   \n",
      "4139    67    136       3.0       2.50     0.115822  0.006952     2.0   \n",
      "\n",
      "      waterfront  view  condition  sqft_above  sqft_basement  yr_built  \\\n",
      "0              0     0          3    0.126797       0.000000  0.947368   \n",
      "1              0     0          3    0.414379       0.000000  0.938596   \n",
      "2              0     0          3    0.790850       0.176349  0.964912   \n",
      "3              0     0          3    0.055948       0.041494  0.938596   \n",
      "4              0     0          5    0.160784       0.302905  0.692982   \n",
      "...          ...   ...        ...         ...            ...       ...   \n",
      "4135           0     0          4    0.149020       0.000000  0.473684   \n",
      "4136           0     0          3    0.142484       0.000000  0.728070   \n",
      "4137           0     0          3    0.345098       0.000000  0.956140   \n",
      "4138           0     0          3    0.091503       0.211618  0.649123   \n",
      "4139           0     0          4    0.146405       0.000000  0.789474   \n",
      "\n",
      "      yr_renovated  street  city  statezip  country  \n",
      "0         0.000000    3962    34        47        0  \n",
      "1         0.000000    2491     7        10        0  \n",
      "2         0.000000    3511    15        17        0  \n",
      "3         0.000000    3762    34        56        0  \n",
      "4         0.000000     177    34        65        0  \n",
      "...            ...     ...   ...       ...      ...  \n",
      "4135      0.982622    3095    34        62        0  \n",
      "4136      0.997517     870     3         6        0  \n",
      "4137      0.000000    3634    31        37        0  \n",
      "4138      0.000000    3145    34        71        0  \n",
      "4139      0.000000    1364     9        26        0  \n",
      "\n",
      "[4140 rows x 18 columns]\n"
     ]
    }
   ],
   "source": [
    "import numpy as np\n",
    "from sklearn.preprocessing import MinMaxScaler\n",
    "\n",
    "numeric_columns = ['sqft_living', 'sqft_lot', 'sqft_above', 'sqft_basement', 'yr_built', 'yr_renovated']\n",
    "\n",
    "scaler = MinMaxScaler()\n",
    "dataset[numeric_columns] = scaler.fit_transform(dataset[numeric_columns])\n",
    "\n",
    "print(dataset)"
   ]
  },
  {
   "cell_type": "code",
   "execution_count": 372,
   "metadata": {},
   "outputs": [
    {
     "name": "stdout",
     "output_type": "stream",
     "text": [
      "3151288\n",
      "761\n",
      "      date     price  bedrooms  bathrooms  sqft_living  sqft_lot  floors  \\\n",
      "0        5     0-761       3.0       2.00     0.100310  0.000695     3.0   \n",
      "1        5  761-2000       4.0       3.25     0.327818  0.147909     2.0   \n",
      "2        5  761-2000       5.0       6.50     0.713547  0.120512     2.0   \n",
      "3        5     0-761       3.0       2.25     0.064943  0.000248     2.0   \n",
      "4        6  761-2000       5.0       2.75     0.278180  0.005940     1.0   \n",
      "...    ...       ...       ...        ...          ...       ...     ...   \n",
      "4135    66     0-761       3.0       1.75     0.117890  0.005330     1.0   \n",
      "4136    66  761-2000       3.0       2.50     0.112720  0.006460     2.0   \n",
      "4137    66     0-761       3.0       2.50     0.273009  0.005939     2.0   \n",
      "4138    67     0-761       4.0       2.00     0.177870  0.005581     1.0   \n",
      "4139    67     0-761       3.0       2.50     0.115822  0.006952     2.0   \n",
      "\n",
      "      waterfront  view  condition  sqft_above  sqft_basement  yr_built  \\\n",
      "0              0     0          3    0.126797       0.000000  0.947368   \n",
      "1              0     0          3    0.414379       0.000000  0.938596   \n",
      "2              0     0          3    0.790850       0.176349  0.964912   \n",
      "3              0     0          3    0.055948       0.041494  0.938596   \n",
      "4              0     0          5    0.160784       0.302905  0.692982   \n",
      "...          ...   ...        ...         ...            ...       ...   \n",
      "4135           0     0          4    0.149020       0.000000  0.473684   \n",
      "4136           0     0          3    0.142484       0.000000  0.728070   \n",
      "4137           0     0          3    0.345098       0.000000  0.956140   \n",
      "4138           0     0          3    0.091503       0.211618  0.649123   \n",
      "4139           0     0          4    0.146405       0.000000  0.789474   \n",
      "\n",
      "      yr_renovated  street  city  statezip  country  \n",
      "0         0.000000    3962    34        47        0  \n",
      "1         0.000000    2491     7        10        0  \n",
      "2         0.000000    3511    15        17        0  \n",
      "3         0.000000    3762    34        56        0  \n",
      "4         0.000000     177    34        65        0  \n",
      "...            ...     ...   ...       ...      ...  \n",
      "4135      0.982622    3095    34        62        0  \n",
      "4136      0.997517     870     3         6        0  \n",
      "4137      0.000000    3634    31        37        0  \n",
      "4138      0.000000    3145    34        71        0  \n",
      "4139      0.000000    1364     9        26        0  \n",
      "\n",
      "[4140 rows x 18 columns]\n"
     ]
    }
   ],
   "source": [
    "import numpy as np\n",
    "sum= (np.sum(dataset[\"price\"]))\n",
    "YSample=sum\n",
    "sum =sum.astype(int)\n",
    "sum1 =sum/4139\n",
    "sum1=sum1.astype(int)\n",
    "print(sum)\n",
    "print(sum1)\n",
    "\n",
    "\n",
    "bins =[0,761,2000]\n",
    "labels = [\"0-761\",\"761-2000\"]\n",
    "\n",
    "dataset[\"price\"]=pd.cut(dataset[\"price\"],bins=bins,labels=labels,right=False)\n",
    "\n",
    "print(dataset)"
   ]
  },
  {
   "cell_type": "code",
   "execution_count": 373,
   "metadata": {},
   "outputs": [
    {
     "name": "stdout",
     "output_type": "stream",
     "text": [
      "      date  price  bedrooms  bathrooms  sqft_living  sqft_lot  floors  \\\n",
      "0        5      0       3.0       2.00     0.100310  0.000695     3.0   \n",
      "1        5      1       4.0       3.25     0.327818  0.147909     2.0   \n",
      "2        5      1       5.0       6.50     0.713547  0.120512     2.0   \n",
      "3        5      0       3.0       2.25     0.064943  0.000248     2.0   \n",
      "4        6      1       5.0       2.75     0.278180  0.005940     1.0   \n",
      "...    ...    ...       ...        ...          ...       ...     ...   \n",
      "4135    66      0       3.0       1.75     0.117890  0.005330     1.0   \n",
      "4136    66      1       3.0       2.50     0.112720  0.006460     2.0   \n",
      "4137    66      0       3.0       2.50     0.273009  0.005939     2.0   \n",
      "4138    67      0       4.0       2.00     0.177870  0.005581     1.0   \n",
      "4139    67      0       3.0       2.50     0.115822  0.006952     2.0   \n",
      "\n",
      "      waterfront  view  condition  sqft_above  sqft_basement  yr_built  \\\n",
      "0              0     0          3    0.126797       0.000000  0.947368   \n",
      "1              0     0          3    0.414379       0.000000  0.938596   \n",
      "2              0     0          3    0.790850       0.176349  0.964912   \n",
      "3              0     0          3    0.055948       0.041494  0.938596   \n",
      "4              0     0          5    0.160784       0.302905  0.692982   \n",
      "...          ...   ...        ...         ...            ...       ...   \n",
      "4135           0     0          4    0.149020       0.000000  0.473684   \n",
      "4136           0     0          3    0.142484       0.000000  0.728070   \n",
      "4137           0     0          3    0.345098       0.000000  0.956140   \n",
      "4138           0     0          3    0.091503       0.211618  0.649123   \n",
      "4139           0     0          4    0.146405       0.000000  0.789474   \n",
      "\n",
      "      yr_renovated  street  city  statezip  country  \n",
      "0         0.000000    3962    34        47        0  \n",
      "1         0.000000    2491     7        10        0  \n",
      "2         0.000000    3511    15        17        0  \n",
      "3         0.000000    3762    34        56        0  \n",
      "4         0.000000     177    34        65        0  \n",
      "...            ...     ...   ...       ...      ...  \n",
      "4135      0.982622    3095    34        62        0  \n",
      "4136      0.997517     870     3         6        0  \n",
      "4137      0.000000    3634    31        37        0  \n",
      "4138      0.000000    3145    34        71        0  \n",
      "4139      0.000000    1364     9        26        0  \n",
      "\n",
      "[4140 rows x 18 columns]\n"
     ]
    }
   ],
   "source": [
    "from sklearn.preprocessing import LabelEncoder\n",
    "le=LabelEncoder()                                                 #labelencoding\n",
    "dataset[\"price\"] = le.fit_transform(dataset[\"price\"])\n",
    "print(dataset)"
   ]
  },
  {
   "cell_type": "code",
   "execution_count": 374,
   "metadata": {},
   "outputs": [],
   "source": [
    "XSample=dataset.drop(\"price\" , axis=1)\n",
    "YSample =dataset.price"
   ]
  },
  {
   "cell_type": "code",
   "execution_count": 375,
   "metadata": {},
   "outputs": [],
   "source": [
    "#YSample=pd.get_dummies(YSample)"
   ]
  },
  {
   "cell_type": "code",
   "execution_count": 376,
   "metadata": {},
   "outputs": [
    {
     "name": "stdout",
     "output_type": "stream",
     "text": [
      "(2484, 17)\n",
      "(828, 17)\n",
      "(828, 17)\n",
      "(2484,)\n",
      "(828,)\n",
      "(828,)\n"
     ]
    }
   ],
   "source": [
    "XTrain, XTest, yTrain, yTest= train_test_split(XSample,YSample, test_size=0.2, random_state=42)\n",
    "XTrain, XVal, yTrain, yVal = train_test_split(XTrain,yTrain,test_size=0.25,random_state=42)\n",
    "\n",
    "print(XTrain.shape)\n",
    "print(XTest.shape)\n",
    "print(XVal.shape)\n",
    "print(yTrain.shape)\n",
    "print(yTest.shape)\n",
    "print(yVal.shape)\n"
   ]
  },
  {
   "cell_type": "code",
   "execution_count": 382,
   "metadata": {},
   "outputs": [
    {
     "name": "stdout",
     "output_type": "stream",
     "text": [
      "              precision    recall  f1-score   support\n",
      "\n",
      "           0       0.81      0.83      0.82       405\n",
      "           1       0.83      0.81      0.82       423\n",
      "\n",
      "    accuracy                           0.82       828\n",
      "   macro avg       0.82      0.82      0.82       828\n",
      "weighted avg       0.82      0.82      0.82       828\n",
      "\n"
     ]
    }
   ],
   "source": [
    "from sklearn.ensemble import RandomForestClassifier\n",
    "from sklearn.metrics import classification_report,confusion_matrix\n",
    "\n",
    "model = RandomForestClassifier(random_state=42)\n",
    "model.fit(XTrain,yTrain) \n",
    "\n",
    "y_test_pred = model.predict(XTest) \n",
    "\n",
    "print(classification_report(yTest,y_test_pred))  \n",
    "\n",
    "#print(confusion_matrix(yTest,y_test_pred))\n"
   ]
  },
  {
   "cell_type": "code",
   "execution_count": 379,
   "metadata": {},
   "outputs": [
    {
     "name": "stdout",
     "output_type": "stream",
     "text": [
      "              precision    recall  f1-score   support\n",
      "\n",
      "           0       0.80      0.85      0.82       405\n",
      "           1       0.85      0.79      0.82       423\n",
      "\n",
      "    accuracy                           0.82       828\n",
      "   macro avg       0.82      0.82      0.82       828\n",
      "weighted avg       0.82      0.82      0.82       828\n",
      "\n"
     ]
    }
   ],
   "source": [
    "from sklearn.neighbors import KNeighborsClassifier\n",
    "model= KNeighborsClassifier(n_neighbors=5,metric=\"minkowski\",p=1.3)\n",
    "model.fit(XTrain,yTrain)\n",
    "\n",
    "yTestPred=model.predict(XTest)\n",
    "print(classification_report(yTest,y_test_pred))  "
   ]
  }
 ],
 "metadata": {
  "kernelspec": {
   "display_name": "Python 3",
   "language": "python",
   "name": "python3"
  },
  "language_info": {
   "codemirror_mode": {
    "name": "ipython",
    "version": 3
   },
   "file_extension": ".py",
   "mimetype": "text/x-python",
   "name": "python",
   "nbconvert_exporter": "python",
   "pygments_lexer": "ipython3",
   "version": "3.9.19"
  }
 },
 "nbformat": 4,
 "nbformat_minor": 2
}
